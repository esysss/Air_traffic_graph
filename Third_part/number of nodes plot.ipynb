{
 "cells": [
  {
   "cell_type": "code",
   "execution_count": 3,
   "metadata": {},
   "outputs": [],
   "source": [
    "import pandas\n",
    "import numpy\n",
    "import networkx\n",
    "from matplotlib import pyplot as plt\n",
    "import pickle"
   ]
  },
  {
   "cell_type": "code",
   "execution_count": 4,
   "metadata": {},
   "outputs": [],
   "source": [
    "pickle_in = open(\"nets.p\",\"rb\")\n",
    "nets = pickle.load(pickle_in)"
   ]
  },
  {
   "cell_type": "code",
   "execution_count": 5,
   "metadata": {},
   "outputs": [
    {
     "name": "stdout",
     "output_type": "stream",
     "text": [
      "95\n",
      "90\n",
      "85\n",
      "80\n",
      "70\n",
      "65\n",
      "60\n",
      "55\n"
     ]
    }
   ],
   "source": [
    "for key in nets:\n",
    "    print(key)"
   ]
  },
  {
   "cell_type": "code",
   "execution_count": 68,
   "metadata": {},
   "outputs": [
    {
     "name": "stdout",
     "output_type": "stream",
     "text": [
      "nodes of the network :  ['Abu Musa', 'Bandar Abbas', 'Arak', 'Persian Gulf', 'Mashhad', 'Ardabil', 'Mhrabadthran', 'Orumieh', 'Esfahan', 'Gorgan', 'Rasht', 'Bushehr', 'Bahregan', 'Browse', 'Mahshahr', 'Tabriz', 'Kharg', 'Kerman', 'Shiraz', 'Qeshm', 'Abadan', 'Ahvaz', 'Kish', 'Noshahr', 'Lavan', 'Sari', 'Yazd', 'Iranshahr', 'Bass', 'Elam', 'Jiroft', 'Zabul', 'AGHAJARI', 'Bojnoord', 'Kermanshah', 'Chabahar', 'Lengeh seaport', 'Birjand', 'Jam', 'Zahedan', 'Khorramabad', 'Khoy', 'Dezful', 'Ramsar', 'Rafsanjan', 'Zanjan', 'Sabzevar', 'Sanandaj', 'Sirjan', 'Lamerd', 'Anymore', 'Shahr e Kord', 'Peaks', 'Kashan', 'Stigma', 'Hamedan', 'Gach-saran', 'Lar', 'Imam', 'Yasouj'] \n",
      "\n",
      "number of nodes in network :  60 \n",
      "\n",
      "number of edges in the network :  173 \n",
      "\n",
      "('Abu Musa', 1)\n",
      "('AGHAJARI', 1)\n",
      "('Bojnoord', 1)\n",
      "('Jam', 1)\n",
      "('Khoy', 1)\n",
      "('Rafsanjan', 1)\n",
      "('Zanjan', 1)\n",
      "('Sabzevar', 1)\n",
      "('Sirjan', 1)\n",
      "('Anymore', 1)\n",
      "('Peaks', 1)\n",
      "('Stigma', 1)\n",
      "('Gach-saran', 1)\n",
      "('Lar', 1)\n",
      "('Imam', 1)\n",
      "('Yasouj', 1)\n",
      "('Arak', 2)\n",
      "('Ardabil', 2)\n",
      "('Orumieh', 2)\n",
      "('Noshahr', 2)\n",
      "('Bass', 2)\n",
      "('Elam', 2)\n",
      "('Jiroft', 2)\n",
      "('Lengeh seaport', 2)\n",
      "('Birjand', 2)\n",
      "('Khorramabad', 2)\n",
      "('Dezful', 2)\n",
      "('Ramsar', 2)\n",
      "('Sanandaj', 2)\n",
      "('Lamerd', 2)\n",
      "('Shahr e Kord', 2)\n",
      "('Kashan', 2)\n",
      "('Hamedan', 2)\n",
      "('Lavan', 3)\n",
      "('Iranshahr', 3)\n",
      "('Zabul', 3)\n",
      "('Bahregan', 4)\n",
      "('Mahshahr', 4)\n",
      "('Gorgan', 5)\n",
      "('Abadan', 5)\n",
      "('Yazd', 5)\n",
      "('Chabahar', 5)\n",
      "('Kharg', 6)\n",
      "('Kerman', 6)\n",
      "('Browse', 7)\n",
      "('Qeshm', 7)\n",
      "('Sari', 7)\n",
      "('Kermanshah', 7)\n",
      "('Zahedan', 7)\n",
      "('Rasht', 8)\n",
      "('Bushehr', 8)\n",
      "('Tabriz', 9)\n",
      "('Persian Gulf', 10)\n",
      "('Bandar Abbas', 15)\n",
      "('Ahvaz', 17)\n",
      "('Kish', 18)\n",
      "('Esfahan', 19)\n",
      "('Shiraz', 24)\n",
      "('Mashhad', 35)\n",
      "('Mhrabadthran', 49)\n"
     ]
    }
   ],
   "source": [
    "network = 95\n",
    "print(\"nodes of the network : \",nets[network].nodes(),\"\\n\")\n",
    "print(\"number of nodes in network : \",len(nets[network]),\"\\n\")\n",
    "print(\"number of edges in the network : \",nets[network].number_of_edges(),\"\\n\")\n",
    "\n",
    "num_of_edges = {}\n",
    "for nodes in nets[network]:\n",
    "    num_of_edges[nodes] = len(list(nets[network].neighbors(nodes)))\n",
    "\n",
    "num_of_edges = sorted(num_of_edges.items(),key = lambda x:x[1])\n",
    "for edges in num_of_edges:\n",
    "    print(edges)"
   ]
  },
  {
   "cell_type": "code",
   "execution_count": 75,
   "metadata": {},
   "outputs": [
    {
     "name": "stdout",
     "output_type": "stream",
     "text": [
      "years : [95, 90, 85, 80, 70, 65, 60, 55]\n",
      "number_of_nodes : [60, 55, 56, 55, 22, 17, 12, 23]\n",
      "number_of_edges : [173, 169, 135, 130, 60, 36, 23, 46]\n"
     ]
    }
   ],
   "source": [
    "number_of_nodes = []\n",
    "number_of_edges = []\n",
    "YEARS = list(nets)\n",
    "\n",
    "for years in nets:\n",
    "    number_of_edges.append(nets[years].number_of_edges())\n",
    "    number_of_nodes.append(nets[years].number_of_nodes())\n",
    "\n",
    "print(f\"years : {YEARS}\")\n",
    "print(f\"number_of_nodes : {number_of_nodes}\")\n",
    "print(f\"number_of_edges : {number_of_edges}\")"
   ]
  },
  {
   "cell_type": "code",
   "execution_count": 103,
   "metadata": {},
   "outputs": [
    {
     "data": {
      "image/png": "[encoded data removed]",
      "text/plain": [
       "<Figure size 432x288 with 1 Axes>"
      ]
     },
     "metadata": {},
     "output_type": "display_data"
    }
   ],
   "source": [
    "plt.style.use(\"ggplot\")\n",
    "objects = [str(i) for i in YEARS[-1::-1]]\n",
    "y_pos = numpy.arange(len(objects))\n",
    "performanse = number_of_nodes[-1::-1]\n",
    "\n",
    "plt.bar(y_pos,performanse,align=\"center\", alpha = .5)\n",
    "plt.xticks(y_pos, objects)\n",
    "plt.ylabel(\"Number\")\n",
    "plt.xlabel(\"Years\")\n",
    "plt.title(\"Number of nodes\")\n",
    "plt.savefig(\"hist_nodes.png\")"
   ]
  },
  {
   "cell_type": "code",
   "execution_count": 104,
   "metadata": {},
   "outputs": [
    {
     "data": {
      "image/png": "[encoded data removed]",
      "text/plain": [
       "<Figure size 432x288 with 1 Axes>"
      ]
     },
     "metadata": {},
     "output_type": "display_data"
    }
   ],
   "source": [
    "objects = [str(i) for i in YEARS[-1::-1]]\n",
    "y_pos = numpy.arange(len(objects))\n",
    "performanse = number_of_edges[-1::-1]\n",
    "\n",
    "plt.bar(y_pos,performanse,align=\"center\", alpha = .5)\n",
    "plt.xticks(y_pos, objects)\n",
    "plt.ylabel(\"Number\")\n",
    "plt.xlabel(\"Years\")\n",
    "plt.title(\"Number of edges\")\n",
    "plt.savefig(\"hist_eddges.png\")"
   ]
  },
  {
   "cell_type": "code",
   "execution_count": 12,
   "metadata": {},
   "outputs": [
    {
     "name": "stdout",
     "output_type": "stream",
     "text": [
      "('Abu Musa', 1)\n",
      "('AGHAJARI', 1)\n",
      "('Bojnoord', 1)\n",
      "('Jam', 1)\n",
      "('Khoy', 1)\n",
      "('Rafsanjan', 1)\n",
      "('Zanjan', 1)\n",
      "('Sabzevar', 1)\n",
      "('Sirjan', 1)\n",
      "('Anymore', 1)\n",
      "('Peaks', 1)\n",
      "('Stigma', 1)\n",
      "('Gach-saran', 1)\n",
      "('Lar', 1)\n",
      "('Imam', 1)\n",
      "('Yasouj', 1)\n",
      "('Arak', 2)\n",
      "('Ardabil', 2)\n",
      "('Orumieh', 2)\n",
      "('Noshahr', 2)\n",
      "('Bass', 2)\n",
      "('Elam', 2)\n",
      "('Jiroft', 2)\n",
      "('Lengeh seaport', 2)\n",
      "('Birjand', 2)\n",
      "('Khorramabad', 2)\n",
      "('Dezful', 2)\n",
      "('Ramsar', 2)\n",
      "('Sanandaj', 2)\n",
      "('Lamerd', 2)\n",
      "('Shahr e Kord', 2)\n",
      "('Kashan', 2)\n",
      "('Hamedan', 2)\n",
      "('Lavan', 3)\n",
      "('Iranshahr', 3)\n",
      "('Zabul', 3)\n",
      "('Bahregan', 4)\n",
      "('Mahshahr', 4)\n",
      "('Gorgan', 5)\n",
      "('Abadan', 5)\n",
      "('Yazd', 5)\n",
      "('Chabahar', 5)\n",
      "('Kharg', 6)\n",
      "('Kerman', 6)\n",
      "('Browse', 7)\n",
      "('Qeshm', 7)\n",
      "('Sari', 7)\n",
      "('Kermanshah', 7)\n",
      "('Zahedan', 7)\n",
      "('Rasht', 8)\n",
      "('Bushehr', 8)\n",
      "('Tabriz', 9)\n",
      "('Persian Gulf', 10)\n",
      "('Bandar Abbas', 15)\n",
      "('Ahvaz', 17)\n",
      "('Kish', 18)\n",
      "('Esfahan', 19)\n",
      "('Shiraz', 24)\n",
      "('Mashhad', 35)\n",
      "('Mhrabadthran', 49)\n"
     ]
    }
   ],
   "source": [
    "network = 95\n",
    "\n",
    "num_of_edges = {}\n",
    "for nodes in nets[network]:\n",
    "    num_of_edges[nodes] = len(list(nets[network].neighbors(nodes)))\n",
    "\n",
    "num_of_edges = sorted(num_of_edges.items(),key = lambda x:x[1])\n",
    "for edges in num_of_edges:\n",
    "    print(edges)"
   ]
  },
  {
   "cell_type": "code",
   "execution_count": null,
   "metadata": {},
   "outputs": [],
   "source": []
  }
 ],
 "metadata": {
  "kernelspec": {
   "display_name": "Python 3",
   "language": "python",
   "name": "python3"
  },
  "language_info": {
   "codemirror_mode": {
    "name": "ipython",
    "version": 3
   },
   "file_extension": ".py",
   "mimetype": "text/x-python",
   "name": "python",
   "nbconvert_exporter": "python",
   "pygments_lexer": "ipython3",
   "version": "3.7.1"
  }
 },
 "nbformat": 4,
 "nbformat_minor": 2
}
